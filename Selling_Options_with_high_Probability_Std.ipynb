{
 "cells": [
  {
   "cell_type": "code",
   "execution_count": null,
   "metadata": {
    "colab": {
     "base_uri": "https://localhost:8080/"
    },
    "id": "2EM79js4fRka",
    "outputId": "5883aedf-2448-40f5-a3a0-56f61e41f045"
   },
   "outputs": [
    {
     "name": "stdout",
     "output_type": "stream",
     "text": [
      "Requirement already satisfied: yfinance in /usr/local/lib/python3.7/dist-packages (0.1.59)\n",
      "Requirement already satisfied: pandas>=0.24 in /usr/local/lib/python3.7/dist-packages (from yfinance) (1.1.5)\n",
      "Requirement already satisfied: lxml>=4.5.1 in /usr/local/lib/python3.7/dist-packages (from yfinance) (4.6.3)\n",
      "Requirement already satisfied: multitasking>=0.0.7 in /usr/local/lib/python3.7/dist-packages (from yfinance) (0.0.9)\n",
      "Requirement already satisfied: numpy>=1.15 in /usr/local/lib/python3.7/dist-packages (from yfinance) (1.19.5)\n",
      "Requirement already satisfied: requests>=2.20 in /usr/local/lib/python3.7/dist-packages (from yfinance) (2.23.0)\n",
      "Requirement already satisfied: python-dateutil>=2.7.3 in /usr/local/lib/python3.7/dist-packages (from pandas>=0.24->yfinance) (2.8.1)\n",
      "Requirement already satisfied: pytz>=2017.2 in /usr/local/lib/python3.7/dist-packages (from pandas>=0.24->yfinance) (2018.9)\n",
      "Requirement already satisfied: chardet<4,>=3.0.2 in /usr/local/lib/python3.7/dist-packages (from requests>=2.20->yfinance) (3.0.4)\n",
      "Requirement already satisfied: idna<3,>=2.5 in /usr/local/lib/python3.7/dist-packages (from requests>=2.20->yfinance) (2.10)\n",
      "Requirement already satisfied: certifi>=2017.4.17 in /usr/local/lib/python3.7/dist-packages (from requests>=2.20->yfinance) (2020.12.5)\n",
      "Requirement already satisfied: urllib3!=1.25.0,!=1.25.1,<1.26,>=1.21.1 in /usr/local/lib/python3.7/dist-packages (from requests>=2.20->yfinance) (1.24.3)\n",
      "Requirement already satisfied: six>=1.5 in /usr/local/lib/python3.7/dist-packages (from python-dateutil>=2.7.3->pandas>=0.24->yfinance) (1.15.0)\n"
     ]
    }
   ],
   "source": [
    "!pip install yfinance\n",
    "import numpy as np\n",
    "import pandas as pd\n",
    "import matplotlib.pyplot as plt\n",
    "import yfinance as yf\n",
    "import datetime\n",
    "import seaborn as sns"
   ]
  },
  {
   "cell_type": "code",
   "execution_count": null,
   "metadata": {
    "colab": {
     "base_uri": "https://localhost:8080/"
    },
    "id": "-4uconwBfcmu",
    "outputId": "cb7e66d4-54f0-4463-9e40-66e0134717b3"
   },
   "outputs": [
    {
     "name": "stdout",
     "output_type": "stream",
     "text": [
      "\r",
      "[*********************100%***********************]  1 of 1 completed\n"
     ]
    }
   ],
   "source": [
    "data = yf.download(\"^NSEI\",period=\"10y\",interval=\"1d\")"
   ]
  },
  {
   "cell_type": "code",
   "execution_count": null,
   "metadata": {
    "id": "4WngtA69fxKV"
   },
   "outputs": [],
   "source": [
    "data.sort_values(by='Date',inplace=True)"
   ]
  },
  {
   "cell_type": "code",
   "execution_count": null,
   "metadata": {
    "colab": {
     "base_uri": "https://localhost:8080/",
     "height": 238
    },
    "id": "Kn4RPL9fh3XV",
    "outputId": "196f23e7-d0c9-4150-dda4-05cd74559814"
   },
   "outputs": [
    {
     "data": {
      "text/html": [
       "<div>\n",
       "<style scoped>\n",
       "    .dataframe tbody tr th:only-of-type {\n",
       "        vertical-align: middle;\n",
       "    }\n",
       "\n",
       "    .dataframe tbody tr th {\n",
       "        vertical-align: top;\n",
       "    }\n",
       "\n",
       "    .dataframe thead th {\n",
       "        text-align: right;\n",
       "    }\n",
       "</style>\n",
       "<table border=\"1\" class=\"dataframe\">\n",
       "  <thead>\n",
       "    <tr style=\"text-align: right;\">\n",
       "      <th></th>\n",
       "      <th>Open</th>\n",
       "      <th>High</th>\n",
       "      <th>Low</th>\n",
       "      <th>Close</th>\n",
       "      <th>Adj Close</th>\n",
       "      <th>Volume</th>\n",
       "    </tr>\n",
       "    <tr>\n",
       "      <th>Date</th>\n",
       "      <th></th>\n",
       "      <th></th>\n",
       "      <th></th>\n",
       "      <th></th>\n",
       "      <th></th>\n",
       "      <th></th>\n",
       "    </tr>\n",
       "  </thead>\n",
       "  <tbody>\n",
       "    <tr>\n",
       "      <th>2011-04-01</th>\n",
       "      <td>5835.000000</td>\n",
       "      <td>5860.200195</td>\n",
       "      <td>5810.399902</td>\n",
       "      <td>5826.049805</td>\n",
       "      <td>5826.049805</td>\n",
       "      <td>0</td>\n",
       "    </tr>\n",
       "    <tr>\n",
       "      <th>2011-04-04</th>\n",
       "      <td>5842.000000</td>\n",
       "      <td>5918.700195</td>\n",
       "      <td>5833.200195</td>\n",
       "      <td>5908.450195</td>\n",
       "      <td>5908.450195</td>\n",
       "      <td>0</td>\n",
       "    </tr>\n",
       "    <tr>\n",
       "      <th>2011-04-05</th>\n",
       "      <td>5923.850098</td>\n",
       "      <td>5928.649902</td>\n",
       "      <td>5855.850098</td>\n",
       "      <td>5910.049805</td>\n",
       "      <td>5910.049805</td>\n",
       "      <td>0</td>\n",
       "    </tr>\n",
       "    <tr>\n",
       "      <th>2011-04-06</th>\n",
       "      <td>5908.000000</td>\n",
       "      <td>5944.450195</td>\n",
       "      <td>5868.799805</td>\n",
       "      <td>5891.750000</td>\n",
       "      <td>5891.750000</td>\n",
       "      <td>0</td>\n",
       "    </tr>\n",
       "    <tr>\n",
       "      <th>2011-04-07</th>\n",
       "      <td>5888.549805</td>\n",
       "      <td>5906.100098</td>\n",
       "      <td>5866.250000</td>\n",
       "      <td>5885.700195</td>\n",
       "      <td>5885.700195</td>\n",
       "      <td>0</td>\n",
       "    </tr>\n",
       "  </tbody>\n",
       "</table>\n",
       "</div>"
      ],
      "text/plain": [
       "                   Open         High  ...    Adj Close  Volume\n",
       "Date                                  ...                     \n",
       "2011-04-01  5835.000000  5860.200195  ...  5826.049805       0\n",
       "2011-04-04  5842.000000  5918.700195  ...  5908.450195       0\n",
       "2011-04-05  5923.850098  5928.649902  ...  5910.049805       0\n",
       "2011-04-06  5908.000000  5944.450195  ...  5891.750000       0\n",
       "2011-04-07  5888.549805  5906.100098  ...  5885.700195       0\n",
       "\n",
       "[5 rows x 6 columns]"
      ]
     },
     "execution_count": 16,
     "metadata": {
      "tags": []
     },
     "output_type": "execute_result"
    }
   ],
   "source": [
    "data.head()"
   ]
  },
  {
   "cell_type": "code",
   "execution_count": null,
   "metadata": {
    "colab": {
     "base_uri": "https://localhost:8080/",
     "height": 489
    },
    "id": "3yIIrhUCX5eo",
    "outputId": "0c7aa769-936e-423d-ef51-a49f4963c3d8"
   },
   "outputs": [
    {
     "data": {
      "text/plain": [
       "<matplotlib.axes._subplots.AxesSubplot at 0x7f1cd3e4e650>"
      ]
     },
     "execution_count": 17,
     "metadata": {
      "tags": []
     },
     "output_type": "execute_result"
    },
    {
     "data": {
      "image/png": "[encoded data removed]",
      "text/plain": [
       "<Figure size 936x576 with 1 Axes>"
      ]
     },
     "metadata": {
      "tags": []
     },
     "output_type": "display_data"
    }
   ],
   "source": [
    "sns.set(rc={'figure.figsize':(13,8)})\n",
    "data['Adj Close'].plot()"
   ]
  },
  {
   "cell_type": "code",
   "execution_count": null,
   "metadata": {
    "colab": {
     "base_uri": "https://localhost:8080/",
     "height": 574
    },
    "id": "3Cp4-IQCh4Wv",
    "outputId": "4529770d-beb3-44b0-cdbb-8a1c0733d2c0"
   },
   "outputs": [
    {
     "name": "stderr",
     "output_type": "stream",
     "text": [
      "/usr/local/lib/python3.7/dist-packages/seaborn/distributions.py:2557: FutureWarning: `distplot` is a deprecated function and will be removed in a future version. Please adapt your code to use either `displot` (a figure-level function with similar flexibility) or `histplot` (an axes-level function for histograms).\n",
      "  warnings.warn(msg, FutureWarning)\n"
     ]
    },
    {
     "data": {
      "text/plain": [
       "<matplotlib.axes._subplots.AxesSubplot at 0x7f1cd1cee590>"
      ]
     },
     "execution_count": 18,
     "metadata": {
      "tags": []
     },
     "output_type": "execute_result"
    },
    {
     "data": {
      "image/png": "[encoded data removed]",
      "text/plain": [
       "<Figure size 936x576 with 1 Axes>"
      ]
     },
     "metadata": {
      "tags": []
     },
     "output_type": "display_data"
    }
   ],
   "source": [
    "sns.distplot(data['Adj Close'].head(252))"
   ]
  },
  {
   "cell_type": "code",
   "execution_count": null,
   "metadata": {
    "id": "Ej6mKm8Cw8lk"
   },
   "outputs": [],
   "source": [
    "data['return_per'] = ((data['Adj Close'] - data['Adj Close'].shift(1)) / data['Adj Close']) * 100\n",
    "data.dropna(inplace=True)"
   ]
  },
  {
   "cell_type": "code",
   "execution_count": null,
   "metadata": {
    "colab": {
     "base_uri": "https://localhost:8080/",
     "height": 455
    },
    "id": "vMsKSee1gmew",
    "outputId": "7b460f15-9052-44c1-e7c5-6bc413be3b84"
   },
   "outputs": [
    {
     "data": {
      "text/html": [
       "<div>\n",
       "<style scoped>\n",
       "    .dataframe tbody tr th:only-of-type {\n",
       "        vertical-align: middle;\n",
       "    }\n",
       "\n",
       "    .dataframe tbody tr th {\n",
       "        vertical-align: top;\n",
       "    }\n",
       "\n",
       "    .dataframe thead th {\n",
       "        text-align: right;\n",
       "    }\n",
       "</style>\n",
       "<table border=\"1\" class=\"dataframe\">\n",
       "  <thead>\n",
       "    <tr style=\"text-align: right;\">\n",
       "      <th></th>\n",
       "      <th>Open</th>\n",
       "      <th>High</th>\n",
       "      <th>Low</th>\n",
       "      <th>Close</th>\n",
       "      <th>Adj Close</th>\n",
       "      <th>Volume</th>\n",
       "      <th>return_per</th>\n",
       "    </tr>\n",
       "    <tr>\n",
       "      <th>Date</th>\n",
       "      <th></th>\n",
       "      <th></th>\n",
       "      <th></th>\n",
       "      <th></th>\n",
       "      <th></th>\n",
       "      <th></th>\n",
       "      <th></th>\n",
       "    </tr>\n",
       "  </thead>\n",
       "  <tbody>\n",
       "    <tr>\n",
       "      <th>2011-04-04</th>\n",
       "      <td>5842.000000</td>\n",
       "      <td>5918.700195</td>\n",
       "      <td>5833.200195</td>\n",
       "      <td>5908.450195</td>\n",
       "      <td>5908.450195</td>\n",
       "      <td>0</td>\n",
       "      <td>1.394619</td>\n",
       "    </tr>\n",
       "    <tr>\n",
       "      <th>2011-04-05</th>\n",
       "      <td>5923.850098</td>\n",
       "      <td>5928.649902</td>\n",
       "      <td>5855.850098</td>\n",
       "      <td>5910.049805</td>\n",
       "      <td>5910.049805</td>\n",
       "      <td>0</td>\n",
       "      <td>0.027066</td>\n",
       "    </tr>\n",
       "    <tr>\n",
       "      <th>2011-04-06</th>\n",
       "      <td>5908.000000</td>\n",
       "      <td>5944.450195</td>\n",
       "      <td>5868.799805</td>\n",
       "      <td>5891.750000</td>\n",
       "      <td>5891.750000</td>\n",
       "      <td>0</td>\n",
       "      <td>-0.310600</td>\n",
       "    </tr>\n",
       "    <tr>\n",
       "      <th>2011-04-07</th>\n",
       "      <td>5888.549805</td>\n",
       "      <td>5906.100098</td>\n",
       "      <td>5866.250000</td>\n",
       "      <td>5885.700195</td>\n",
       "      <td>5885.700195</td>\n",
       "      <td>0</td>\n",
       "      <td>-0.102788</td>\n",
       "    </tr>\n",
       "    <tr>\n",
       "      <th>2011-04-08</th>\n",
       "      <td>5886.750000</td>\n",
       "      <td>5926.950195</td>\n",
       "      <td>5822.000000</td>\n",
       "      <td>5842.000000</td>\n",
       "      <td>5842.000000</td>\n",
       "      <td>0</td>\n",
       "      <td>-0.748035</td>\n",
       "    </tr>\n",
       "    <tr>\n",
       "      <th>...</th>\n",
       "      <td>...</td>\n",
       "      <td>...</td>\n",
       "      <td>...</td>\n",
       "      <td>...</td>\n",
       "      <td>...</td>\n",
       "      <td>...</td>\n",
       "      <td>...</td>\n",
       "    </tr>\n",
       "    <tr>\n",
       "      <th>2021-03-25</th>\n",
       "      <td>14570.900391</td>\n",
       "      <td>14575.599609</td>\n",
       "      <td>14264.400391</td>\n",
       "      <td>14324.900391</td>\n",
       "      <td>14324.900391</td>\n",
       "      <td>606800</td>\n",
       "      <td>-1.567201</td>\n",
       "    </tr>\n",
       "    <tr>\n",
       "      <th>2021-03-26</th>\n",
       "      <td>14506.299805</td>\n",
       "      <td>14572.900391</td>\n",
       "      <td>14414.250000</td>\n",
       "      <td>14507.299805</td>\n",
       "      <td>14507.299805</td>\n",
       "      <td>481000</td>\n",
       "      <td>1.257294</td>\n",
       "    </tr>\n",
       "    <tr>\n",
       "      <th>2021-03-30</th>\n",
       "      <td>14628.500000</td>\n",
       "      <td>14876.299805</td>\n",
       "      <td>14617.599609</td>\n",
       "      <td>14845.099609</td>\n",
       "      <td>14845.099609</td>\n",
       "      <td>594500</td>\n",
       "      <td>2.275497</td>\n",
       "    </tr>\n",
       "    <tr>\n",
       "      <th>2021-03-31</th>\n",
       "      <td>14811.849609</td>\n",
       "      <td>14813.750000</td>\n",
       "      <td>14670.250000</td>\n",
       "      <td>14690.700195</td>\n",
       "      <td>14690.700195</td>\n",
       "      <td>463900</td>\n",
       "      <td>-1.051001</td>\n",
       "    </tr>\n",
       "    <tr>\n",
       "      <th>2021-04-01</th>\n",
       "      <td>14798.400391</td>\n",
       "      <td>14883.200195</td>\n",
       "      <td>14692.450195</td>\n",
       "      <td>14867.349609</td>\n",
       "      <td>14867.349609</td>\n",
       "      <td>445000</td>\n",
       "      <td>1.188170</td>\n",
       "    </tr>\n",
       "  </tbody>\n",
       "</table>\n",
       "<p>2442 rows × 7 columns</p>\n",
       "</div>"
      ],
      "text/plain": [
       "                    Open          High  ...  Volume  return_per\n",
       "Date                                    ...                    \n",
       "2011-04-04   5842.000000   5918.700195  ...       0    1.394619\n",
       "2011-04-05   5923.850098   5928.649902  ...       0    0.027066\n",
       "2011-04-06   5908.000000   5944.450195  ...       0   -0.310600\n",
       "2011-04-07   5888.549805   5906.100098  ...       0   -0.102788\n",
       "2011-04-08   5886.750000   5926.950195  ...       0   -0.748035\n",
       "...                  ...           ...  ...     ...         ...\n",
       "2021-03-25  14570.900391  14575.599609  ...  606800   -1.567201\n",
       "2021-03-26  14506.299805  14572.900391  ...  481000    1.257294\n",
       "2021-03-30  14628.500000  14876.299805  ...  594500    2.275497\n",
       "2021-03-31  14811.849609  14813.750000  ...  463900   -1.051001\n",
       "2021-04-01  14798.400391  14883.200195  ...  445000    1.188170\n",
       "\n",
       "[2442 rows x 7 columns]"
      ]
     },
     "execution_count": 20,
     "metadata": {
      "tags": []
     },
     "output_type": "execute_result"
    }
   ],
   "source": [
    "data"
   ]
  },
  {
   "cell_type": "code",
   "execution_count": null,
   "metadata": {
    "colab": {
     "base_uri": "https://localhost:8080/",
     "height": 577
    },
    "id": "Z8vgbCF1gmg4",
    "outputId": "2b6123bc-91b0-4db5-b984-8b1bba68c50d"
   },
   "outputs": [
    {
     "name": "stderr",
     "output_type": "stream",
     "text": [
      "/usr/local/lib/python3.7/dist-packages/seaborn/distributions.py:2557: FutureWarning: `distplot` is a deprecated function and will be removed in a future version. Please adapt your code to use either `displot` (a figure-level function with similar flexibility) or `histplot` (an axes-level function for histograms).\n",
      "  warnings.warn(msg, FutureWarning)\n"
     ]
    },
    {
     "data": {
      "text/plain": [
       "<matplotlib.axes._subplots.AxesSubplot at 0x7f1cd1cbe210>"
      ]
     },
     "execution_count": 21,
     "metadata": {
      "tags": []
     },
     "output_type": "execute_result"
    },
    {
     "data": {
      "image/png": "[encoded data removed]",
      "text/plain": [
       "<Figure size 936x576 with 1 Axes>"
      ]
     },
     "metadata": {
      "tags": []
     },
     "output_type": "display_data"
    }
   ],
   "source": [
    "sns.set(rc={'figure.figsize':(13,8)})\n",
    "sns.distplot(data['return_per'],bins=10)"
   ]
  },
  {
   "cell_type": "code",
   "execution_count": null,
   "metadata": {
    "colab": {
     "base_uri": "https://localhost:8080/"
    },
    "id": "ynxBteVujDS_",
    "outputId": "301c4e19-b38e-4e41-a8f6-0ea2585d096d"
   },
   "outputs": [
    {
     "data": {
      "text/plain": [
       "1.1255630656680902"
      ]
     },
     "execution_count": 22,
     "metadata": {
      "tags": []
     },
     "output_type": "execute_result"
    }
   ],
   "source": [
    "data['return_per'].std()"
   ]
  },
  {
   "cell_type": "code",
   "execution_count": null,
   "metadata": {
    "colab": {
     "base_uri": "https://localhost:8080/"
    },
    "id": "jIixX1lbjDVM",
    "outputId": "c6f9ad79-5be4-4633-b3f4-8386720de0be"
   },
   "outputs": [
    {
     "data": {
      "text/plain": [
       "1.4717470400623918"
      ]
     },
     "execution_count": 23,
     "metadata": {
      "tags": []
     },
     "output_type": "execute_result"
    }
   ],
   "source": [
    "# Last 1 year volatility\n",
    "data['return_per'].tail(252).std()"
   ]
  },
  {
   "cell_type": "markdown",
   "metadata": {
    "id": "WRHx_xrpjwVW"
   },
   "source": [
    "# The 68-95-99.7 Rule\n",
    "\n",
    "![](https://miro.medium.com/max/24000/1*IdGgdrY_n_9_YfkaCh-dag.png)"
   ]
  },
  {
   "cell_type": "markdown",
   "metadata": {
    "id": "fPNBw9HyUp2A"
   },
   "source": [
    "| Index      | Time Interval | 1 Std Dev(68%) | 2 Std Dev(95%) | 3 Std Dev(99.7%) |\n",
    "|------------|---------------|----------------|----------------|------------------|\n",
    "| Nifty      | Daily         | 1.12%          | 2.24%          | 3.36%            |\n",
    "| Nifty      | Weekly        | 2.36%          | 4.72%          | 7.08%            |\n",
    "| Nifty      | Monthly       | 5.26%          | 10.52%         | 15.78%           |\n",
    "| Bank Nifty | Daily         | 1.72%          | 3.44%          | 5.16%            |\n",
    "| Bank Nifty | Weekly        | 3.84%          | 7.68%          | 11.52%           |\n",
    "| Bank Nifty | Monthly       | 9.59%          | 19.18%         | 28.77%           |"
   ]
  },
  {
   "cell_type": "code",
   "execution_count": null,
   "metadata": {
    "id": "5wUe320VYl-4"
   },
   "outputs": [],
   "source": []
  },
  {
   "cell_type": "code",
   "execution_count": null,
   "metadata": {
    "id": "XN7FppRvYqOP"
   },
   "outputs": [],
   "source": []
  }
 ],
 "metadata": {
  "colab": {
   "collapsed_sections": [],
   "name": "Selling_Options_with_high_Probability.ipynb",
   "provenance": []
  },
  "kernelspec": {
   "display_name": "Python 3",
   "language": "python",
   "name": "python3"
  },
  "language_info": {
   "codemirror_mode": {
    "name": "ipython",
    "version": 3
   },
   "file_extension": ".py",
   "mimetype": "text/x-python",
   "name": "python",
   "nbconvert_exporter": "python",
   "pygments_lexer": "ipython3",
   "version": "3.8.3"
  }
 },
 "nbformat": 4,
 "nbformat_minor": 1
}
